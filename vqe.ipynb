{
 "cells": [
  {
   "cell_type": "markdown",
   "metadata": {},
   "source": [
    "# Variational Quantum Eigensolver"
   ]
  },
  {
   "cell_type": "code",
   "execution_count": null,
   "metadata": {},
   "outputs": [],
   "source": [
    "!pip install qiskit\n",
    "!pip install qiskit-nature[pyscf] -U"
   ]
  },
  {
   "cell_type": "code",
   "execution_count": null,
   "metadata": {},
   "outputs": [],
   "source": [
    "!pip install qiskit_aer"
   ]
  },
  {
   "cell_type": "markdown",
   "metadata": {},
   "source": [
    "## Example: $ H_2 $"
   ]
  },
  {
   "cell_type": "code",
   "execution_count": 4,
   "metadata": {},
   "outputs": [],
   "source": [
    "from qiskit_nature.units import DistanceUnit\n",
    "from qiskit_nature.second_q.drivers import PySCFDriver\n",
    "from qiskit_nature.second_q.mappers import JordanWignerMapper\n",
    "from qiskit_nature.second_q.circuit.library import HartreeFock, UCCSD\n",
    "from qiskit.circuit.library import TwoLocal\n",
    "from typing import Tuple"
   ]
  },
  {
   "cell_type": "code",
   "execution_count": 18,
   "metadata": {},
   "outputs": [],
   "source": [
    "def get_mapper_and_ansatz(ansatz_type: str):\n",
    "    \"\"\"\n",
    "    Returns JordanWignerMapper and the UCCSD ansatz configured\n",
    "    for the OH molecule\n",
    "\n",
    "    Args:\n",
    "        ansatz_type: 'UCCSD' or 'TwoLocal'\n",
    "\n",
    "    Returns:\n",
    "        es_problem: ElectronicStructureProblem\n",
    "        mapper: JordanWignerMapper\n",
    "        ansatz: UCCSD type ansatz for OH \n",
    "    \"\"\"\n",
    "\n",
    "    driver = PySCFDriver(\n",
    "        atom=\"\"\"H 0 0 0; H 0.0 0.0 0.9\"\"\",\n",
    "        basis=\"sto3g\",\n",
    "        charge=0,\n",
    "        spin=0,\n",
    "        unit=DistanceUnit.ANGSTROM,\n",
    "    )\n",
    "\n",
    "    es_problem = driver.run()\n",
    "    mapper = JordanWignerMapper()\n",
    "\n",
    "    if ansatz_type == 'UCCSD':\n",
    "        ansatz = UCCSD(\n",
    "            es_problem.num_spatial_orbitals,\n",
    "            es_problem.num_particles,\n",
    "            mapper,\n",
    "            initial_state=HartreeFock(\n",
    "                es_problem.num_spatial_orbitals,\n",
    "                es_problem.num_particles,\n",
    "                mapper,\n",
    "            ),\n",
    "        )\n",
    "    elif ansatz_type == 'TwoLocal':\n",
    "        ansatz = TwoLocal(\n",
    "            rotation_blocks=[\"h\", \"rx\"],\n",
    "            entanglement_blocks=\"cz\",\n",
    "            entanglement=\"full\",\n",
    "            reps=2,\n",
    "            parameter_prefix=\"y\",\n",
    "        )\n",
    "    else:\n",
    "        raise ValueError('Ansatz type not supported') \n",
    "    \n",
    "    return es_problem, mapper, ansatz"
   ]
  },
  {
   "cell_type": "code",
   "execution_count": 19,
   "metadata": {},
   "outputs": [
    {
     "name": "stderr",
     "output_type": "stream",
     "text": [
      "/tmp/ipykernel_5129/3642115839.py:6: DeprecationWarning: The property ``qiskit.utils.algorithm_globals.QiskitAlgorithmGlobals.random_seed`` is deprecated as of qiskit 0.45.0. It will be removed no earlier than 3 months after the release date. This algorithm utility has been migrated to an independent package: https://github.com/qiskit-community/qiskit-algorithms. You can run ``pip install qiskit_algorithms`` and import ``from qiskit_algorithms.utils`` instead. \n",
      "  algorithm_globals.random_seed = seeds\n"
     ]
    }
   ],
   "source": [
    "from qiskit.utils import QuantumInstance, algorithm_globals\n",
    "\n",
    "ansatz_type = 'UCCSD'\n",
    "device = 'CPU'\n",
    "seeds = 170\n",
    "algorithm_globals.random_seed = seeds\n",
    "seed_transpiler = seeds\n",
    "iterations = 125\n",
    "shot = 6000"
   ]
  },
  {
   "cell_type": "code",
   "execution_count": 20,
   "metadata": {},
   "outputs": [
    {
     "name": "stderr",
     "output_type": "stream",
     "text": [
      "/home/sorana/.conda/envs/iccad-learn/lib/python3.11/site-packages/pyscf/dft/libxc.py:771: UserWarning: Since PySCF-2.3, B3LYP (and B3P86) are changed to the VWN-RPA variant, corresponding to the original definition by Stephens et al. (issue 1480) and the same as the B3LYP functional in Gaussian. To restore the VWN5 definition, you can put the setting \"B3LYP_WITH_VWN5 = True\" in pyscf_conf.py\n",
      "  warnings.warn('Since PySCF-2.3, B3LYP (and B3P86) are changed to the VWN-RPA variant, '\n"
     ]
    }
   ],
   "source": [
    "es_problem, mapper, ansatz = get_mapper_and_ansatz(ansatz_type)"
   ]
  },
  {
   "cell_type": "code",
   "execution_count": 21,
   "metadata": {},
   "outputs": [
    {
     "name": "stderr",
     "output_type": "stream",
     "text": [
      "/tmp/ipykernel_5129/3831695330.py:1: DeprecationWarning: ``qiskit.algorithms`` has been migrated to an independent package: https://github.com/qiskit-community/qiskit-algorithms. The ``qiskit.algorithms`` import path is deprecated as of qiskit-terra 0.25.0 and will be removed no earlier than 3 months after the release date. Please run ``pip install qiskit_algorithms`` and use ``import qiskit_algorithms`` instead.\n",
      "  from qiskit.algorithms.minimum_eigensolvers import VQE\n",
      "/tmp/ipykernel_5129/3831695330.py:5: DeprecationWarning: Option approximation=False is deprecated as of qiskit-aer 0.13. It will be removed no earlier than 3 months after the release date. Instead, use BackendEstmator from qiskit.primitives.\n",
      "  estimator = Estimator(\n"
     ]
    }
   ],
   "source": [
    "from qiskit.algorithms.minimum_eigensolvers import VQE\n",
    "from qiskit.algorithms.optimizers import SLSQP\n",
    "from qiskit_aer.primitives import Estimator\n",
    "\n",
    "estimator = Estimator(\n",
    "    backend_options = {\n",
    "        'method': 'statevector',\n",
    "        'device': device\n",
    "        # 'noise_model': noise_model\n",
    "    },\n",
    "    run_options = {\n",
    "        'shots': shot,\n",
    "        'seed': seeds,\n",
    "    },\n",
    "    transpile_options = {\n",
    "        'seed_transpiler':seed_transpiler\n",
    "    }\n",
    ")"
   ]
  },
  {
   "cell_type": "code",
   "execution_count": 33,
   "metadata": {},
   "outputs": [
    {
     "data": {
      "text/html": [
       "<pre style=\"word-wrap: normal;white-space: pre;background: #fff0;line-height: 1.1;font-family: &quot;Courier New&quot;,Courier,monospace\">     ┌──────────┐┌─────┐┌───┐┌───┐┌──────────────┐┌───┐┌───┐ ┌───┐ ┌───┐┌───┐»\n",
       "q_0: ┤ U(π,0,π) ├┤ Sdg ├┤ H ├┤ X ├┤ Rz(1.0*t[0]) ├┤ X ├┤ H ├─┤ S ├─┤ H ├┤ X ├»\n",
       "     └──┬───┬───┘└─────┘└───┘└─┬─┘└──────────────┘└─┬─┘├───┤┌┴───┴┐├───┤└─┬─┘»\n",
       "q_1: ───┤ H ├──────────────────■────────────────────■──┤ H ├┤ Sdg ├┤ H ├──■──»\n",
       "     ┌──┴───┴───┐┌─────┐┌───┐┌───┐┌──────────────┐┌───┐├───┤└┬───┬┘├───┤┌───┐»\n",
       "q_2: ┤ U(π,0,π) ├┤ Sdg ├┤ H ├┤ X ├┤ Rz(1.0*t[1]) ├┤ X ├┤ H ├─┤ S ├─┤ H ├┤ X ├»\n",
       "     └──┬───┬───┘└─────┘└───┘└─┬─┘└──────────────┘└─┬─┘├───┤┌┴───┴┐├───┤└─┬─┘»\n",
       "q_3: ───┤ H ├──────────────────■────────────────────■──┤ H ├┤ Sdg ├┤ H ├──■──»\n",
       "        └───┘                                          └───┘└─────┘└───┘     »\n",
       "«     ┌───────────────┐┌───┐┌───┐┌─────┐ ┌───┐                ┌───┐»\n",
       "«q_0: ┤ Rz(-1.0*t[0]) ├┤ X ├┤ H ├┤ Sdg ├─┤ H ├────────────────┤ X ├»\n",
       "«     └───────────────┘└─┬─┘├───┤└┬───┬┘ ├───┤           ┌───┐└─┬─┘»\n",
       "«q_1: ───────────────────■──┤ H ├─┤ S ├──┤ H ├───────────┤ X ├──■──»\n",
       "«     ┌───────────────┐┌───┐├───┤┌┴───┴┐ ├───┤      ┌───┐└─┬─┘     »\n",
       "«q_2: ┤ Rz(-1.0*t[1]) ├┤ X ├┤ H ├┤ Sdg ├─┤ H ├──────┤ X ├──■───────»\n",
       "«     └───────────────┘└─┬─┘├───┤└┬───┬┘┌┴───┴┐┌───┐└─┬─┘          »\n",
       "«q_3: ───────────────────■──┤ H ├─┤ S ├─┤ Sdg ├┤ H ├──■────────────»\n",
       "«                           └───┘ └───┘ └─────┘└───┘               »\n",
       "«     ┌────────────────┐┌───┐┌───┐┌───┐┌─────┐┌───┐                      ┌───┐»\n",
       "«q_0: ┤ Rz(-0.25*t[2]) ├┤ X ├┤ H ├┤ S ├┤ Sdg ├┤ H ├──────────────────────┤ X ├»\n",
       "«     └────────────────┘└─┬─┘├───┤├───┤├─────┤├───┤                 ┌───┐└─┬─┘»\n",
       "«q_1: ────────────────────■──┤ X ├┤ H ├┤ Sdg ├┤ H ├─────────────────┤ X ├──■──»\n",
       "«                            └─┬─┘├───┤└┬───┬┘├───┤┌─────┐┌───┐┌───┐└─┬─┘     »\n",
       "«q_2: ─────────────────────────■──┤ X ├─┤ H ├─┤ S ├┤ Sdg ├┤ H ├┤ X ├──■───────»\n",
       "«                                 └─┬─┘ ├───┤ ├───┤└┬───┬┘└───┘└─┬─┘          »\n",
       "«q_3: ──────────────────────────────■───┤ H ├─┤ S ├─┤ H ├────────■────────────»\n",
       "«                                       └───┘ └───┘ └───┘                     »\n",
       "«     ┌────────────────┐┌───┐┌───┐┌───┐┌─────┐┌───┐               ┌───┐»\n",
       "«q_0: ┤ Rz(-0.25*t[2]) ├┤ X ├┤ H ├┤ S ├┤ Sdg ├┤ H ├───────────────┤ X ├»\n",
       "«     └────────────────┘└─┬─┘├───┤├───┤└┬───┬┘├───┤          ┌───┐└─┬─┘»\n",
       "«q_1: ────────────────────■──┤ X ├┤ H ├─┤ S ├─┤ H ├──────────┤ X ├──■──»\n",
       "«                            └─┬─┘├───┤ ├───┤ ├───┤┌───┐┌───┐└─┬─┘     »\n",
       "«q_2: ─────────────────────────■──┤ X ├─┤ H ├─┤ S ├┤ H ├┤ X ├──■───────»\n",
       "«                                 └─┬─┘ ├───┤ ├───┤└───┘└─┬─┘          »\n",
       "«q_3: ──────────────────────────────■───┤ H ├─┤ H ├───────■────────────»\n",
       "«                                       └───┘ └───┘                    »\n",
       "«     ┌────────────────┐┌───┐┌───┐┌───┐┌─────┐ ┌───┐                ┌───┐»\n",
       "«q_0: ┤ Rz(-0.25*t[2]) ├┤ X ├┤ H ├┤ S ├┤ Sdg ├─┤ H ├────────────────┤ X ├»\n",
       "«     └────────────────┘└─┬─┘├───┤├───┤├─────┤ ├───┤           ┌───┐└─┬─┘»\n",
       "«q_1: ────────────────────■──┤ X ├┤ H ├┤ Sdg ├─┤ H ├───────────┤ X ├──■──»\n",
       "«                            └─┬─┘├───┤└┬───┬┘ ├───┤      ┌───┐└─┬─┘     »\n",
       "«q_2: ─────────────────────────■──┤ X ├─┤ H ├──┤ H ├──────┤ X ├──■───────»\n",
       "«                                 └─┬─┘ ├───┤ ┌┴───┴┐┌───┐└─┬─┘          »\n",
       "«q_3: ──────────────────────────────■───┤ H ├─┤ Sdg ├┤ H ├──■────────────»\n",
       "«                                       └───┘ └─────┘└───┘               »\n",
       "«     ┌───────────────┐┌───┐┌───┐┌───┐┌───┐                      ┌───┐»\n",
       "«q_0: ┤ Rz(0.25*t[2]) ├┤ X ├┤ H ├┤ S ├┤ H ├──────────────────────┤ X ├»\n",
       "«     └───────────────┘└─┬─┘├───┤├───┤├───┤ ┌───┐           ┌───┐└─┬─┘»\n",
       "«q_1: ───────────────────■──┤ X ├┤ H ├┤ S ├─┤ H ├───────────┤ X ├──■──»\n",
       "«                           └─┬─┘├───┤├───┤┌┴───┴┐┌───┐┌───┐└─┬─┘     »\n",
       "«q_2: ────────────────────────■──┤ X ├┤ H ├┤ Sdg ├┤ H ├┤ X ├──■───────»\n",
       "«                                └─┬─┘├───┤└┬───┬┘├───┤└─┬─┘          »\n",
       "«q_3: ─────────────────────────────■──┤ H ├─┤ S ├─┤ H ├──■────────────»\n",
       "«                                     └───┘ └───┘ └───┘               »\n",
       "«     ┌────────────────┐┌───┐┌───┐┌───┐                                    »\n",
       "«q_0: ┤ Rz(-0.25*t[2]) ├┤ X ├┤ H ├┤ H ├────────────────────────────────────»\n",
       "«     └────────────────┘└─┬─┘├───┤├───┤┌─────┐ ┌───┐                  ┌───┐»\n",
       "«q_1: ────────────────────■──┤ X ├┤ H ├┤ Sdg ├─┤ H ├──────────────────┤ X ├»\n",
       "«                            └─┬─┘├───┤└┬───┬┘ ├───┤ ┌─────┐┌───┐┌───┐└─┬─┘»\n",
       "«q_2: ─────────────────────────■──┤ X ├─┤ H ├──┤ S ├─┤ Sdg ├┤ H ├┤ X ├──■──»\n",
       "«                                 └─┬─┘ ├───┤ ┌┴───┴┐└┬───┬┘└───┘└─┬─┘     »\n",
       "«q_3: ──────────────────────────────■───┤ H ├─┤ Sdg ├─┤ H ├────────■───────»\n",
       "«                                       └───┘ └─────┘ └───┘                »\n",
       "«     ┌───┐┌───────────────┐┌───┐┌───┐┌───┐                                »\n",
       "«q_0: ┤ X ├┤ Rz(0.25*t[2]) ├┤ X ├┤ H ├┤ H ├────────────────────────────────»\n",
       "«     └─┬─┘└───────────────┘└─┬─┘├───┤├───┤┌───┐┌───┐                 ┌───┐»\n",
       "«q_1: ──■─────────────────────■──┤ X ├┤ H ├┤ S ├┤ H ├─────────────────┤ X ├»\n",
       "«                                └─┬─┘├───┤├───┤├───┤ ┌───┐      ┌───┐└─┬─┘»\n",
       "«q_2: ─────────────────────────────■──┤ X ├┤ H ├┤ S ├─┤ H ├──────┤ X ├──■──»\n",
       "«                                     └─┬─┘├───┤├───┤┌┴───┴┐┌───┐└─┬─┘     »\n",
       "«q_3: ──────────────────────────────────■──┤ H ├┤ S ├┤ Sdg ├┤ H ├──■───────»\n",
       "«                                          └───┘└───┘└─────┘└───┘          »\n",
       "«     ┌───┐┌───────────────┐┌───┐┌───┐┌───┐                           ┌───┐»\n",
       "«q_0: ┤ X ├┤ Rz(0.25*t[2]) ├┤ X ├┤ H ├┤ H ├───────────────────────────┤ X ├»\n",
       "«     └─┬─┘└───────────────┘└─┬─┘├───┤├───┤┌─────┐┌───┐          ┌───┐└─┬─┘»\n",
       "«q_1: ──■─────────────────────■──┤ X ├┤ H ├┤ Sdg ├┤ H ├──────────┤ X ├──■──»\n",
       "«                                └─┬─┘├───┤└┬───┬┘├───┤     ┌───┐└─┬─┘     »\n",
       "«q_2: ─────────────────────────────■──┤ X ├─┤ H ├─┤ H ├─────┤ X ├──■───────»\n",
       "«                                     └─┬─┘ ├───┤ ├───┤┌───┐└─┬─┘          »\n",
       "«q_3: ──────────────────────────────────■───┤ H ├─┤ S ├┤ H ├──■────────────»\n",
       "«                                           └───┘ └───┘└───┘               »\n",
       "«     ┌───────────────┐┌───┐┌───┐          \n",
       "«q_0: ┤ Rz(0.25*t[2]) ├┤ X ├┤ H ├──────────\n",
       "«     └───────────────┘└─┬─┘├───┤┌───┐┌───┐\n",
       "«q_1: ───────────────────■──┤ X ├┤ H ├┤ S ├\n",
       "«                           └─┬─┘├───┤├───┤\n",
       "«q_2: ────────────────────────■──┤ X ├┤ H ├\n",
       "«                                └─┬─┘├───┤\n",
       "«q_3: ─────────────────────────────■──┤ H ├\n",
       "«                                     └───┘</pre>"
      ],
      "text/plain": [
       "     ┌──────────┐┌─────┐┌───┐┌───┐┌──────────────┐┌───┐┌───┐ ┌───┐ ┌───┐┌───┐»\n",
       "q_0: ┤ U(π,0,π) ├┤ Sdg ├┤ H ├┤ X ├┤ Rz(1.0*t[0]) ├┤ X ├┤ H ├─┤ S ├─┤ H ├┤ X ├»\n",
       "     └──┬───┬───┘└─────┘└───┘└─┬─┘└──────────────┘└─┬─┘├───┤┌┴───┴┐├───┤└─┬─┘»\n",
       "q_1: ───┤ H ├──────────────────■────────────────────■──┤ H ├┤ Sdg ├┤ H ├──■──»\n",
       "     ┌──┴───┴───┐┌─────┐┌───┐┌───┐┌──────────────┐┌───┐├───┤└┬───┬┘├───┤┌───┐»\n",
       "q_2: ┤ U(π,0,π) ├┤ Sdg ├┤ H ├┤ X ├┤ Rz(1.0*t[1]) ├┤ X ├┤ H ├─┤ S ├─┤ H ├┤ X ├»\n",
       "     └──┬───┬───┘└─────┘└───┘└─┬─┘└──────────────┘└─┬─┘├───┤┌┴───┴┐├───┤└─┬─┘»\n",
       "q_3: ───┤ H ├──────────────────■────────────────────■──┤ H ├┤ Sdg ├┤ H ├──■──»\n",
       "        └───┘                                          └───┘└─────┘└───┘     »\n",
       "«     ┌───────────────┐┌───┐┌───┐┌─────┐ ┌───┐                ┌───┐»\n",
       "«q_0: ┤ Rz(-1.0*t[0]) ├┤ X ├┤ H ├┤ Sdg ├─┤ H ├────────────────┤ X ├»\n",
       "«     └───────────────┘└─┬─┘├───┤└┬───┬┘ ├───┤           ┌───┐└─┬─┘»\n",
       "«q_1: ───────────────────■──┤ H ├─┤ S ├──┤ H ├───────────┤ X ├──■──»\n",
       "«     ┌───────────────┐┌───┐├───┤┌┴───┴┐ ├───┤      ┌───┐└─┬─┘     »\n",
       "«q_2: ┤ Rz(-1.0*t[1]) ├┤ X ├┤ H ├┤ Sdg ├─┤ H ├──────┤ X ├──■───────»\n",
       "«     └───────────────┘└─┬─┘├───┤└┬───┬┘┌┴───┴┐┌───┐└─┬─┘          »\n",
       "«q_3: ───────────────────■──┤ H ├─┤ S ├─┤ Sdg ├┤ H ├──■────────────»\n",
       "«                           └───┘ └───┘ └─────┘└───┘               »\n",
       "«     ┌────────────────┐┌───┐┌───┐┌───┐┌─────┐┌───┐                      ┌───┐»\n",
       "«q_0: ┤ Rz(-0.25*t[2]) ├┤ X ├┤ H ├┤ S ├┤ Sdg ├┤ H ├──────────────────────┤ X ├»\n",
       "«     └────────────────┘└─┬─┘├───┤├───┤├─────┤├───┤                 ┌───┐└─┬─┘»\n",
       "«q_1: ────────────────────■──┤ X ├┤ H ├┤ Sdg ├┤ H ├─────────────────┤ X ├──■──»\n",
       "«                            └─┬─┘├───┤└┬───┬┘├───┤┌─────┐┌───┐┌───┐└─┬─┘     »\n",
       "«q_2: ─────────────────────────■──┤ X ├─┤ H ├─┤ S ├┤ Sdg ├┤ H ├┤ X ├──■───────»\n",
       "«                                 └─┬─┘ ├───┤ ├───┤└┬───┬┘└───┘└─┬─┘          »\n",
       "«q_3: ──────────────────────────────■───┤ H ├─┤ S ├─┤ H ├────────■────────────»\n",
       "«                                       └───┘ └───┘ └───┘                     »\n",
       "«     ┌────────────────┐┌───┐┌───┐┌───┐┌─────┐┌───┐               ┌───┐»\n",
       "«q_0: ┤ Rz(-0.25*t[2]) ├┤ X ├┤ H ├┤ S ├┤ Sdg ├┤ H ├───────────────┤ X ├»\n",
       "«     └────────────────┘└─┬─┘├───┤├───┤└┬───┬┘├───┤          ┌───┐└─┬─┘»\n",
       "«q_1: ────────────────────■──┤ X ├┤ H ├─┤ S ├─┤ H ├──────────┤ X ├──■──»\n",
       "«                            └─┬─┘├───┤ ├───┤ ├───┤┌───┐┌───┐└─┬─┘     »\n",
       "«q_2: ─────────────────────────■──┤ X ├─┤ H ├─┤ S ├┤ H ├┤ X ├──■───────»\n",
       "«                                 └─┬─┘ ├───┤ ├───┤└───┘└─┬─┘          »\n",
       "«q_3: ──────────────────────────────■───┤ H ├─┤ H ├───────■────────────»\n",
       "«                                       └───┘ └───┘                    »\n",
       "«     ┌────────────────┐┌───┐┌───┐┌───┐┌─────┐ ┌───┐                ┌───┐»\n",
       "«q_0: ┤ Rz(-0.25*t[2]) ├┤ X ├┤ H ├┤ S ├┤ Sdg ├─┤ H ├────────────────┤ X ├»\n",
       "«     └────────────────┘└─┬─┘├───┤├───┤├─────┤ ├───┤           ┌───┐└─┬─┘»\n",
       "«q_1: ────────────────────■──┤ X ├┤ H ├┤ Sdg ├─┤ H ├───────────┤ X ├──■──»\n",
       "«                            └─┬─┘├───┤└┬───┬┘ ├───┤      ┌───┐└─┬─┘     »\n",
       "«q_2: ─────────────────────────■──┤ X ├─┤ H ├──┤ H ├──────┤ X ├──■───────»\n",
       "«                                 └─┬─┘ ├───┤ ┌┴───┴┐┌───┐└─┬─┘          »\n",
       "«q_3: ──────────────────────────────■───┤ H ├─┤ Sdg ├┤ H ├──■────────────»\n",
       "«                                       └───┘ └─────┘└───┘               »\n",
       "«     ┌───────────────┐┌───┐┌───┐┌───┐┌───┐                      ┌───┐»\n",
       "«q_0: ┤ Rz(0.25*t[2]) ├┤ X ├┤ H ├┤ S ├┤ H ├──────────────────────┤ X ├»\n",
       "«     └───────────────┘└─┬─┘├───┤├───┤├───┤ ┌───┐           ┌───┐└─┬─┘»\n",
       "«q_1: ───────────────────■──┤ X ├┤ H ├┤ S ├─┤ H ├───────────┤ X ├──■──»\n",
       "«                           └─┬─┘├───┤├───┤┌┴───┴┐┌───┐┌───┐└─┬─┘     »\n",
       "«q_2: ────────────────────────■──┤ X ├┤ H ├┤ Sdg ├┤ H ├┤ X ├──■───────»\n",
       "«                                └─┬─┘├───┤└┬───┬┘├───┤└─┬─┘          »\n",
       "«q_3: ─────────────────────────────■──┤ H ├─┤ S ├─┤ H ├──■────────────»\n",
       "«                                     └───┘ └───┘ └───┘               »\n",
       "«     ┌────────────────┐┌───┐┌───┐┌───┐                                    »\n",
       "«q_0: ┤ Rz(-0.25*t[2]) ├┤ X ├┤ H ├┤ H ├────────────────────────────────────»\n",
       "«     └────────────────┘└─┬─┘├───┤├───┤┌─────┐ ┌───┐                  ┌───┐»\n",
       "«q_1: ────────────────────■──┤ X ├┤ H ├┤ Sdg ├─┤ H ├──────────────────┤ X ├»\n",
       "«                            └─┬─┘├───┤└┬───┬┘ ├───┤ ┌─────┐┌───┐┌───┐└─┬─┘»\n",
       "«q_2: ─────────────────────────■──┤ X ├─┤ H ├──┤ S ├─┤ Sdg ├┤ H ├┤ X ├──■──»\n",
       "«                                 └─┬─┘ ├───┤ ┌┴───┴┐└┬───┬┘└───┘└─┬─┘     »\n",
       "«q_3: ──────────────────────────────■───┤ H ├─┤ Sdg ├─┤ H ├────────■───────»\n",
       "«                                       └───┘ └─────┘ └───┘                »\n",
       "«     ┌───┐┌───────────────┐┌───┐┌───┐┌───┐                                »\n",
       "«q_0: ┤ X ├┤ Rz(0.25*t[2]) ├┤ X ├┤ H ├┤ H ├────────────────────────────────»\n",
       "«     └─┬─┘└───────────────┘└─┬─┘├───┤├───┤┌───┐┌───┐                 ┌───┐»\n",
       "«q_1: ──■─────────────────────■──┤ X ├┤ H ├┤ S ├┤ H ├─────────────────┤ X ├»\n",
       "«                                └─┬─┘├───┤├───┤├───┤ ┌───┐      ┌───┐└─┬─┘»\n",
       "«q_2: ─────────────────────────────■──┤ X ├┤ H ├┤ S ├─┤ H ├──────┤ X ├──■──»\n",
       "«                                     └─┬─┘├───┤├───┤┌┴───┴┐┌───┐└─┬─┘     »\n",
       "«q_3: ──────────────────────────────────■──┤ H ├┤ S ├┤ Sdg ├┤ H ├──■───────»\n",
       "«                                          └───┘└───┘└─────┘└───┘          »\n",
       "«     ┌───┐┌───────────────┐┌───┐┌───┐┌───┐                           ┌───┐»\n",
       "«q_0: ┤ X ├┤ Rz(0.25*t[2]) ├┤ X ├┤ H ├┤ H ├───────────────────────────┤ X ├»\n",
       "«     └─┬─┘└───────────────┘└─┬─┘├───┤├───┤┌─────┐┌───┐          ┌───┐└─┬─┘»\n",
       "«q_1: ──■─────────────────────■──┤ X ├┤ H ├┤ Sdg ├┤ H ├──────────┤ X ├──■──»\n",
       "«                                └─┬─┘├───┤└┬───┬┘├───┤     ┌───┐└─┬─┘     »\n",
       "«q_2: ─────────────────────────────■──┤ X ├─┤ H ├─┤ H ├─────┤ X ├──■───────»\n",
       "«                                     └─┬─┘ ├───┤ ├───┤┌───┐└─┬─┘          »\n",
       "«q_3: ──────────────────────────────────■───┤ H ├─┤ S ├┤ H ├──■────────────»\n",
       "«                                           └───┘ └───┘└───┘               »\n",
       "«     ┌───────────────┐┌───┐┌───┐          \n",
       "«q_0: ┤ Rz(0.25*t[2]) ├┤ X ├┤ H ├──────────\n",
       "«     └───────────────┘└─┬─┘├───┤┌───┐┌───┐\n",
       "«q_1: ───────────────────■──┤ X ├┤ H ├┤ S ├\n",
       "«                           └─┬─┘├───┤├───┤\n",
       "«q_2: ────────────────────────■──┤ X ├┤ H ├\n",
       "«                                └─┬─┘├───┤\n",
       "«q_3: ─────────────────────────────■──┤ H ├\n",
       "«                                     └───┘"
      ]
     },
     "execution_count": 33,
     "metadata": {},
     "output_type": "execute_result"
    }
   ],
   "source": [
    "ansatz.decompose(reps=3).draw()"
   ]
  },
  {
   "cell_type": "code",
   "execution_count": 22,
   "metadata": {},
   "outputs": [],
   "source": [
    "\n",
    "vqe = VQE(estimator, ansatz, SLSQP())\n",
    "vqe.initial_point = [0.0] * ansatz.num_parameters\n"
   ]
  },
  {
   "cell_type": "code",
   "execution_count": 23,
   "metadata": {},
   "outputs": [],
   "source": [
    "from qiskit_nature.second_q.algorithms import GroundStateEigensolver\n",
    "\n",
    "calc = GroundStateEigensolver(mapper, vqe)\n"
   ]
  },
  {
   "cell_type": "code",
   "execution_count": 24,
   "metadata": {},
   "outputs": [],
   "source": [
    "res = calc.solve(es_problem)"
   ]
  },
  {
   "cell_type": "code",
   "execution_count": 25,
   "metadata": {},
   "outputs": [
    {
     "name": "stdout",
     "output_type": "stream",
     "text": [
      "=== GROUND STATE ENERGY ===\n",
      " \n",
      "* Electronic ground state energy (Hartree): -1.678745289658\n",
      "  - computed part:      -1.678745289658\n",
      "~ Nuclear repulsion energy (Hartree): 0.5879746788\n",
      "> Total ground state energy (Hartree): -1.090770610858\n",
      " \n",
      "=== MEASURED OBSERVABLES ===\n",
      " \n",
      "  0:  # Particles: 2.000 S: -0.010 S^2: -0.009 M: 0.000\n",
      " \n",
      "=== DIPOLE MOMENTS ===\n",
      " \n",
      "~ Nuclear dipole moment (a.u.): [0.0  0.0  1.70075351]\n",
      " \n",
      "  0: \n",
      "  * Electronic dipole moment (a.u.): [0.0  0.0  1.702630979461]\n",
      "    - computed part:      [0.0  0.0  1.702630979461]\n",
      "  > Dipole moment (a.u.): [0.0  0.0  -0.001877469461]  Total: 0.001877469461\n",
      "                 (debye): [0.0  0.0  -0.004772050925]  Total: 0.004772050925\n",
      " \n"
     ]
    }
   ],
   "source": [
    "print(res)"
   ]
  },
  {
   "cell_type": "code",
   "execution_count": 34,
   "metadata": {},
   "outputs": [
    {
     "name": "stdout",
     "output_type": "stream",
     "text": [
      "=== GROUND STATE ENERGY ===\n",
      " \n",
      "* Electronic ground state energy (Hartree): -1.7085349601\n",
      "  - computed part:      -1.7085349601\n",
      "~ Nuclear repulsion energy (Hartree): 0.5879746788\n",
      "> Total ground state energy (Hartree): -1.1205602813\n",
      " \n",
      "=== MEASURED OBSERVABLES ===\n",
      " \n",
      "  0:  # Particles: 2.000 S: 0.000 S^2: 0.000 M: 0.000\n",
      " \n",
      "=== DIPOLE MOMENTS ===\n",
      " \n",
      "~ Nuclear dipole moment (a.u.): [0.0  0.0  1.70075351]\n",
      " \n",
      "  0: \n",
      "  * Electronic dipole moment (a.u.): [0.0  0.0  1.700753512109]\n",
      "    - computed part:      [0.0  0.0  1.700753512109]\n",
      "  > Dipole moment (a.u.): [0.0  0.0  -0.000000002109]  Total: 0.000000002109\n",
      "                 (debye): [0.0  0.0  -0.000000005359]  Total: 0.000000005359\n",
      " \n"
     ]
    }
   ],
   "source": [
    "from qiskit.algorithms.minimum_eigensolvers import NumPyMinimumEigensolver\n",
    "\n",
    "numpy_solver = NumPyMinimumEigensolver()\n",
    "calc = GroundStateEigensolver(mapper, numpy_solver)\n",
    "res = calc.solve(es_problem)\n",
    "print(res)"
   ]
  },
  {
   "cell_type": "markdown",
   "metadata": {},
   "source": [
    "### References:\n",
    "\n",
    "\\[1] - Use VQE to calculate the ground energy of hydrogen molecules on IBM Quantum https://arxiv.org/pdf/2305.06538.pdf"
   ]
  },
  {
   "cell_type": "code",
   "execution_count": null,
   "metadata": {},
   "outputs": [],
   "source": []
  }
 ],
 "metadata": {
  "kernelspec": {
   "display_name": "iccad-learn",
   "language": "python",
   "name": "python3"
  },
  "language_info": {
   "codemirror_mode": {
    "name": "ipython",
    "version": 3
   },
   "file_extension": ".py",
   "mimetype": "text/x-python",
   "name": "python",
   "nbconvert_exporter": "python",
   "pygments_lexer": "ipython3",
   "version": "3.11.5"
  }
 },
 "nbformat": 4,
 "nbformat_minor": 2
}
