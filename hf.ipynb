{
 "cells": [
  {
   "cell_type": "markdown",
   "metadata": {},
   "source": [
    "# Hartree Fock"
   ]
  },
  {
   "cell_type": "markdown",
   "metadata": {},
   "source": [
    "## Step 1: Representing the molecule\n",
    "\n",
    "The main reference:\n",
    "\n",
    "Suppose we want to solve the Schrodinger equation for a given molecule, that is:\n",
    "$$\n",
    "\\hat{H}_{el}(r; R) \\psi(r;R) = E_{el}(r; R) \\psi(r; R)\n",
    "$$\n",
    "\n",
    "### Reminder: Slater Determinant\n",
    "$$\n",
    "\\psi(\\mathbf{x}_1, \\mathbf{x}_2, \\ldots, \\mathbf{x}_N)=\\dfrac{1}{\\sqrt{N!}} \\left| \\begin{matrix} \\chi_1(\\mathbf{x}_1) & \\chi_2(\\mathbf{x}_1) & \\cdots & \\chi_N(\\mathbf{x}_1) \\\\ \\chi_1(\\mathbf{x}_2) & \\chi_2(\\mathbf{x}_2) & \\cdots & \\chi_N(\\mathbf{x}_2) \\\\ \\vdots & \\vdots & \\ddots & \\vdots \\\\ \\chi_1(\\mathbf{x}_N) & \\chi_2(\\mathbf{x}_N) & \\cdots & \\chi_N(\\mathbf{x}_N) \\end{matrix} \\right| = \\ket{\\chi_i \\chi_j ... \\chi_k}= \\ket{i j ... k}\n",
    "$$\n",
    "Here, each row represents one electron, so for a system with n electrons we will have n rows, and each column represents a spin orbital (a function determining how likely is fining an electron at that point in space).\n",
    "\n",
    "\n",
    "Going back to HF:\n",
    "1. Invoke the Born-Oppenheimer representation\n",
    "2. Express the electronic wavefunction as a single slater determinant\n",
    "3. Solve for those orbitals which minimize the electronic energy (by using the variational method)\n",
    "\n",
    "\n",
    "### To Add: Born-Oppenheimer approximation"
   ]
  },
  {
   "cell_type": "markdown",
   "metadata": {},
   "source": [
    "### The operators\n",
    "#### One-electron operator\n",
    "$\n",
    "h(i) = -\\frac{1}{2} \\nabla_i^2 - \\sum_A \\frac{Z_A}{r_iA} \n",
    "$\n",
    "\n",
    "The first part $-\\frac{1}{2} \\nabla_i^2$ represents (in atomic units) the kinetic energy of electron i, while the second term represents a potential energy, more exactly it represents the attraction that each electron feels to all nuclei (it can also be a molecule). The $Z_A$ represents the number of protons (the charge of the neclei). This term basically is the Couloumb Law for a single electron.\n",
    "\n",
    "#### Two-electron operator\n",
    "$\n",
    "v(i, j) = \\frac{1}{r_{ij}}\n",
    "$\n",
    "\n",
    "This represents the Couloumb repulsion between electron i and electron j.\n",
    "\n",
    "\n",
    "Therefore, the electronic hamiltonian can be represented in terms of these two operators as:\n",
    "$$\n",
    "\\hat{H}_{el} = \\sum_i h(i) +  \\sum_{i<j} v(i, j) + V_{NN} \n",
    "$$\n",
    "where we choose i<j so we don't count the same pair of electrons twice.\n",
    "\n",
    "\n",
    "Therefore, the question remains as to what is the energy of the slater determinant?\n",
    "\n",
    "$$\n",
    "E_{el}(R) = \\braket{\\psi(\\mathbf{r}, R) | \\hat{H}_{el} | \\psi(\\mathbf{r}, R) } = \\int_{-\\infty}^{\\infty} d\\mathbf{r} \\psi^*(\\mathbf{r}, R) \\hat{H}_{el} \\psi(\\mathbf{r}, R)\n",
    "$$"
   ]
  },
  {
   "cell_type": "markdown",
   "metadata": {},
   "source": [
    "This expression turns into:\n",
    "\n",
    "$$\n",
    "E_{HF} = \\sum_i^{elec} \\braket{i|\\hat{h}|i} + \\sum_{i>j}^{elec} [ii | jj] - [ij | ji]\n",
    "$$\n",
    "\n",
    "where we define:\n",
    "1. The one-electron integral (4-dimensional)\n",
    "\n",
    "$$\n",
    "\\braket{i|\\hat{h}|j} = \\int d\\mathbf{x_1} \\chi_i^*(\\mathbf{x_1}) \\hat{h}(\\mathbf{r_1}) \\chi_j(\\mathbf{x_i}) \n",
    "$$\n",
    ", where $\\mathbf{x_1} = (x, y, z, s)^T$\n",
    "\n",
    "This is similar to how we write the expectation value: we remember that $ \\hat{h} $ is the kinetic energy formula and the potential attraction to the nuclei -- this means that for $\\braket{i|\\hat{h}|j}$ if we have one electron in orbital i, this would be the average value of the energy of said electron\n",
    "\n",
    "2. The two-electron integral (8-dimensional)\n",
    "$$\n",
    "[ij | kl] =  \\int d\\mathbf{x_1} d\\mathbf{x_2} \\chi_i^*(\\mathbf{x_1}) \\chi_j(\\mathbf{x_1}) \\frac{1}{r_{ij}} \\chi_k^*(\\mathbf{x_2}) \\chi_l(\\mathbf{x_2})\n",
    "$$\n",
    "This is a Couloumb type potential: if we look on the left we have only electron 1, but we use two different orbitals.  \n",
    "\n",
    "$$\n",
    "[ii | jj] =  \\int d\\mathbf{x_1} \\int d\\mathbf{x_2} \\chi_i^*(\\mathbf{x_1}) \\chi_i(\\mathbf{x_1}) \\frac{1}{r_{ij}} \\chi_j^*(\\mathbf{x_2}) \\chi_j(\\mathbf{x_2})\n",
    "$$\n",
    "Each pair of electrons has a \"Couloumb integral\"\n",
    "\n",
    "- The first part: $\\chi_i^*(\\mathbf{x_1}) \\chi_i(\\mathbf{x_1})$ tells us if an electron was in orbital $\\chi_i$, then this is the probability of finding the electron at location $\\mathbf{x_i}$\n",
    "- The same for last part: $\\chi_j^*(\\mathbf{x_2}) \\chi_j(\\mathbf{x_2})$ tells us if an electron was in orbital $\\chi_j$, then this is the probability of finding the electron at location $\\mathbf{x_2}$\n",
    "- If one electron was to be in orbital $\\chi_i$ and the other in $\\chi_j$, then the repulsion would be $\\frac{1}{r_{ij}}$\n",
    "\n",
    "So we consider all possible locations and calculate the repulsion energy.\n",
    "\n",
    "\n",
    "$$\n",
    "[ij | ji] =  \\int d\\mathbf{x_1} \\int d\\mathbf{x_2} \\chi_i^*(\\mathbf{x_1}) \\chi_j(\\mathbf{x_1}) \\frac{1}{r_{ij}} \\chi_j^*(\\mathbf{x_2}) \\chi_i(\\mathbf{x_2})\n",
    "$$\n",
    "This is an \"Exchange\" integral:"
   ]
  },
  {
   "cell_type": "markdown",
   "metadata": {},
   "source": [
    "### Spin factorization\n",
    "\n",
    "Recal the spin orbiral $\\chi (\\mathbf{x})$ is a function of 4 coordinates: 3 spatial coordinates and the spin.\n",
    "We normally write each spin orbital as a product of a spatial part and a spin part. \n",
    "$$\n",
    "\\chi(\\mathbf{x}) = \\psi(\\mathbf{r})\\sigma(\\omega)\n",
    "$$\n",
    "\n",
    "The operators in HF theory, do not depend on the spin coordonate. This means that an integral over x can be factored into a simple integral over the spin coordinate times a more complicated inegral over the spatial coordinates\n",
    "\n",
    "$$\n",
    "\\langle i | \\hat{h} | j \\rangle = \\int d\\mathbf{x} \\chi_i^*(\\mathbf{x})\\hat{h}(\\mathbf{r})\\chi_j(\\mathbf{x}) = \\int d\\mathbf{r}d\\omega \\psi_i^*(\\mathbf{r})\\sigma_i^*(\\omega)\\hat{h}(\\mathbf{r})\\psi_j(\\mathbf{r})\\sigma_j(\\omega) = \\\\= \\int d\\omega \\sigma_i^*(\\omega)\\sigma_j(\\omega) \\int d\\mathbf{r} \\psi_i^*(\\mathbf{r})\\hat{h}(\\mathbf{r})\\psi_j(\\mathbf{r}) \\\\\n",
    "\\langle i | \\hat{h} | j \\rangle  = \\int d\\omega \\sigma_i^*(\\omega)\\sigma_j(\\omega) \\times (i | \\hat{h} | j)\n",
    "$$\n",
    "\n",
    "We can also factorize out the spin functions in two-electron integrals\n",
    "\n",
    "\n",
    "$$\n",
    "[ ij | kl ] = \\int  d\\omega_1 \\sigma_i^*(\\omega_1)\\sigma_j(\\omega_1)\n",
    "                \\int  d\\omega_2 \\sigma_k^*(\\omega_2)\\sigma_l(\\omega_2)\n",
    "                \\times (ij | kj)\n",
    "$$\n",
    "\n",
    "The spin integrals are usually easy, since they end up depending on $\\alpha(\\omega)$ or $\\beta(\\omega)$ and the integration rules for these ones are easy and result in either 1 or 0.\n",
    "$$\n",
    "\\int d\\omega \\alpha(\\omega) \\alpha^*(\\omega) = 1 \\\\\n",
    "\\int d\\omega \\beta(\\omega) \\beta^*(\\omega) = 1 \\\\\n",
    "\\int d\\omega \\alpha(\\omega) \\beta^*(\\omega) = 0 \\\\\n",
    "\\int d\\omega \\beta(\\omega) \\alpha^*(\\omega) = 0 \n",
    "$$\n",
    "\n",
    "therefore:\n",
    "\n",
    "$$\n",
    "\\langle i | \\hat{h} | j \\rangle  = \\int d\\omega \\sigma_i^*(\\omega)\\sigma_j(\\omega) \\times (i | \\hat{h} | j) =  \\\\\n",
    "                    = \\begin{cases}\n",
    "                         (i | \\hat{h} | j)  & \\sigma_i = \\sigma_j \\\\\n",
    "                         0  & \\sigma_i \\neq \\sigma_j\n",
    "                    \\end{cases}\n",
    "\\\\\n",
    "\\\\\n",
    "\n",
    "[ ij | kl ] = \\int  d\\omega_1 \\sigma_i^*(\\omega_1)\\sigma_j(\\omega_1)\n",
    "                \\int  d\\omega_2 \\sigma_k^*(\\omega_2)\\sigma_l(\\omega_2)\n",
    "                \\times (ij | kj) \\\\\n",
    "           = \\begin{cases}\n",
    "           (ij | kj) & \\sigma_i = \\sigma_j, \\sigma_k = \\sigma_l \\\\\n",
    "           0 & otherwise\n",
    "           \\end{cases}\n",
    "\n",
    "$$"
   ]
  },
  {
   "cell_type": "markdown",
   "metadata": {},
   "source": [
    "Notations in the HF energy:\n",
    "\n",
    "$h_{ii} = (i|\\hat{h}|j) $ - each electron's contribution (energy) $ \\\\ $\n",
    "$J_{ij} = [ii | jj] $ - Couloumb repulsion $\\\\$\n",
    "$K_{ij} = (ij | ji) $ - Exchange term \n"
   ]
  },
  {
   "cell_type": "markdown",
   "metadata": {},
   "source": [
    "RHF - all pair orbitals come in spin pairs (closed shells)\n",
    "\n",
    "UHF - If not all electrons are paired\n",
    "\n",
    "\n",
    "### Connection to Hund's Rule\n",
    "\n",
    "![hund rule](imgs/Hunds-Rule.png)\n",
    "\n",
    "\n",
    "Why would we prefer, for $p^2$ orbital let's say, the configuration $\\uparrow \\_ \\uparrow \\_\\ \\_ \\_ $ rahter then $\\uparrow \\downarrow \\_ \\_\\ \\_ \\_ $. Well, in the first case:\n",
    "$$\n",
    "E_{HF} = h_{11} + h_{22} + J_{12} - K_{12}\n",
    "$$\n",
    "and for the second case\n",
    "$$\n",
    "E_{HF} = h_{11} + h_{22} + J_{11}\n",
    "$$\n",
    "\n"
   ]
  },
  {
   "cell_type": "markdown",
   "metadata": {},
   "source": [
    "### The case for H_2"
   ]
  },
  {
   "cell_type": "markdown",
   "metadata": {},
   "source": [
    "### Step 1:\n",
    "\n",
    "Calculating the one integral and coulomb & exchange two electron integrals"
   ]
  },
  {
   "cell_type": "code",
   "execution_count": 2,
   "metadata": {},
   "outputs": [],
   "source": [
    "import psi4\n",
    "from typing import Tuple"
   ]
  },
  {
   "cell_type": "code",
   "execution_count": 3,
   "metadata": {},
   "outputs": [],
   "source": [
    "def get_integrals_for_molecule(molecule: psi4.core.Molecule, basis: str = 'sto-3g') -> Tuple[psi4.core.Matrix, psi4.core.Matrix, psi4.core.Matrix]:\n",
    "    \"\"\"Generates and returns the one electron integrals and the overlapping integral for the given molecule\n",
    "\n",
    "    Args:\n",
    "        molecule (psi4.core.Molecule): The molecule for which we want the integrals\n",
    "        basis (str): the basis for the wavefunction\n",
    "\n",
    "    Returns:\n",
    "        Tuple[psi4.core.Matrix, psi4.core.Matrix, psi4.core.Matrix]: a tuple consisting of the potential integral, \n",
    "        kinetic integrals and overlapping integrals, (S, T, V)\n",
    "    \"\"\"\n",
    "    psi4.set_options({'basis': basis})\n",
    "    wfn = psi4.core.Wavefunction.build(molecule, psi4.core.get_global_option('basis'))\n",
    "\n",
    "    # Initialize MintsHelper with wavefunction's basis set\n",
    "    mints = psi4.core.MintsHelper(wfn.basisset())\n",
    "    S = mints.ao_overlap()\n",
    "    T = mints.ao_potential()\n",
    "    V = mints.ao_kinetic()\n",
    "\n",
    "    return (S, T, V)\n",
    "    "
   ]
  },
  {
   "cell_type": "code",
   "execution_count": 4,
   "metadata": {},
   "outputs": [],
   "source": [
    "# define the molecule\n",
    "h2 = psi4.geometry(geom=\"\"\"\n",
    "                        H\n",
    "                        H 1 0.9\n",
    "                      \"\"\"\n",
    "                   , name='h2')"
   ]
  },
  {
   "cell_type": "code",
   "execution_count": 5,
   "metadata": {},
   "outputs": [
    {
     "name": "stdout",
     "output_type": "stream",
     "text": [
      "   => Loading Basis Set <=\n",
      "\n",
      "    Name: STO-3G\n",
      "    Role: ORBITAL\n",
      "    Keyword: BASIS\n",
      "    atoms 1-2 entry H          line    19 file /home/sorana/.conda/envs/iccad-learn/share/psi4/basis/sto-3g.gbs \n",
      "\n"
     ]
    }
   ],
   "source": [
    "S, T, V = get_integrals_for_molecule(h2)"
   ]
  },
  {
   "cell_type": "code",
   "execution_count": 6,
   "metadata": {},
   "outputs": [
    {
     "name": "stdout",
     "output_type": "stream",
     "text": [
      "  ## AO-basis Overlap Ints (Symmetry 0) ##\n",
      "  Irrep: 1 Size: 2 x 2\n",
      "\n",
      "                 1                   2\n",
      "\n",
      "    1     1.00000000000000     0.55718740982586\n",
      "    2     0.55718740982586     1.00000000000000\n",
      "\n",
      "\n",
      "\n",
      "  ## AO-basis Potential Ints (Symmetry 0) ##\n",
      "  Irrep: 1 Size: 2 x 2\n",
      "\n",
      "                 1                   2\n",
      "\n",
      "    1    -1.78783495650137    -0.93467616593642\n",
      "    2    -0.93467616593642    -1.78783495650137\n",
      "\n",
      "\n",
      "\n",
      "  ## AO-basis Kinetic Ints (Symmetry 0) ##\n",
      "  Irrep: 1 Size: 2 x 2\n",
      "\n",
      "                 1                   2\n",
      "\n",
      "    1     0.76003188356661     0.15268381725241\n",
      "    2     0.15268381725241     0.76003188356661\n",
      "\n",
      "\n",
      "\n"
     ]
    }
   ],
   "source": [
    "S.print_out()\n",
    "T.print_out()\n",
    "V.print_out()\n"
   ]
  },
  {
   "cell_type": "code",
   "execution_count": 7,
   "metadata": {},
   "outputs": [],
   "source": [
    "# The core hamiltonian\n",
    "h = T.clone() \n",
    "h.add(V)"
   ]
  },
  {
   "cell_type": "code",
   "execution_count": 8,
   "metadata": {},
   "outputs": [],
   "source": [
    "def get_number_of_occupied_orbitals_for_molecule(molecule: psi4.core.Molecule) -> int:\n",
    "    \"\"\"Returns the number of doubly occupied orbitals for the given molecule\n",
    "\n",
    "    Args:\n",
    "        molecule (psi4.core.Molecule): the molecule\n",
    "\n",
    "    Returns:\n",
    "        int: the number of doubly occupied orbitals\n",
    "    \"\"\"\n",
    "    charge = h2.molecular_charge()\n",
    "    Z = sum(h2.Z(A) for A in range(molecule.natom()))\n",
    "    ndocc = int(Z / 2) - (charge / 2) # number of doubly-occupied orbitals\n",
    "    return ndocc"
   ]
  },
  {
   "cell_type": "code",
   "execution_count": 9,
   "metadata": {},
   "outputs": [
    {
     "name": "stdout",
     "output_type": "stream",
     "text": [
      ">>> Number of doubly occupied orbitals 1.0 for h2\n"
     ]
    }
   ],
   "source": [
    "ndoo = get_number_of_occupied_orbitals_for_molecule(h2)\n",
    "print(f'>>> Number of doubly occupied orbitals {ndoo} for {h2.name()}')"
   ]
  },
  {
   "cell_type": "code",
   "execution_count": 10,
   "metadata": {},
   "outputs": [
    {
     "name": "stdout",
     "output_type": "stream",
     "text": [
      ">>> Multiplicty: 1 for h2\n"
     ]
    }
   ],
   "source": [
    "print(f'>>> Multiplicty: {h2.multiplicity()} for {h2.name()}')"
   ]
  },
  {
   "cell_type": "markdown",
   "metadata": {},
   "source": [
    "We have multiplicity 1, therefore we can assum RHF"
   ]
  },
  {
   "cell_type": "markdown",
   "metadata": {},
   "source": [
    "## Step 2: Diagonalize the matrix\n",
    "\n",
    "Since S (the overlap integrals) is a Hermitian matrix, we can use the function `numpy.linalg.eigh` function\n",
    "$$\n",
    "U^\\dagger S U = \\Lambda \n",
    "$$\n",
    "\n",
    "To construct the orthogonal matrix $ S^{-1/2} $:\n",
    "$$\n",
    "S^{-1/2} = U \\Lambda U^\\dagger\n",
    "$$"
   ]
  },
  {
   "cell_type": "code",
   "execution_count": 11,
   "metadata": {},
   "outputs": [],
   "source": [
    "import numpy as np\n",
    "import scipy\n",
    "\n",
    "\n",
    "def get_eigen_values_and_vectors(S: psi4.core.Matrix):\n",
    "    lambda_eigenvalues, lambda_vectors = np.linalg.eigh(S)\n",
    "    return lambda_eigenvalues, lambda_vectors\n",
    "\n",
    "def get_symmetric_othogonal_matrix(M: psi4.core.Matrix):\n",
    "    eig_val, eig_vec = get_eigen_values_and_vectors(M)\n",
    "    symm_M = np.dot(np.dot(eig_vec,scipy.linalg.sqrtm(np.linalg.inv(np.diag(eig_val)))),np.matrix.transpose(eig_vec))\n",
    "    return symm_M\n",
    "    "
   ]
  },
  {
   "cell_type": "code",
   "execution_count": 12,
   "metadata": {},
   "outputs": [
    {
     "name": "stdout",
     "output_type": "stream",
     "text": [
      "[[ 1.15206243 -0.35069893]\n",
      " [-0.35069893  1.15206243]]\n"
     ]
    }
   ],
   "source": [
    "S_sqrt = get_symmetric_othogonal_matrix(S)\n",
    "print(S_sqrt)"
   ]
  },
  {
   "cell_type": "markdown",
   "metadata": {},
   "source": [
    "## Step 3: Initial guess matrix\n",
    "\n",
    "We can assume no density, therefore the Fock matrix is just the core Hamiltonian"
   ]
  },
  {
   "cell_type": "code",
   "execution_count": 15,
   "metadata": {},
   "outputs": [],
   "source": [
    "F = h.clone()\n",
    "F = np.dot(np.dot(np.transpose(S_sqrt), F), np.transpose(S_sqrt))"
   ]
  },
  {
   "cell_type": "markdown",
   "metadata": {},
   "source": [
    "## Step 5:\n",
    "\n",
    "Nominally, we want to solve \n",
    "\n",
    "$$\n",
    "F C = S C \\epsilon\n",
    "$$\n",
    "\n",
    "Since this is a pseudo-eigenvalue equation, in order to solve it we will convert it to an aigenvalue equation.\n"
   ]
  },
  {
   "cell_type": "code",
   "execution_count": null,
   "metadata": {},
   "outputs": [],
   "source": []
  },
  {
   "cell_type": "markdown",
   "metadata": {},
   "source": [
    "# References\n",
    "\n",
    "\\[1] - Introduction to Hartree-Fock Molecular Orbital Theory: https://www.youtube.com/watch?v=qcYxyP_SDLU\n",
    "\n",
    "\\[2] - https://mattermodeling.stackexchange.com/questions/9713/is-there-a-simple-free-working-code-that-implements-hartree-fock-or-dft\n",
    "\n",
    "\\[3] - [Quantum States of Atoms and Molecules](https://chem.libretexts.org/Bookshelves/Physical_and_Theoretical_Chemistry_Textbook_Maps/Book%3A_Quantum_States_of_Atoms_and_Molecules_(Zielinksi_et_al)/10%3A_Theories_of_Electronic_Molecular_Structure/10.04%3A_The_Case_of_H%E2%82%82%E2%81%BA)\n",
    "\n",
    "\\[4] - HF Algorithm (https://www.youtube.com/watch?v=WTz8nr1abwc&t=1008s)\n",
    "\n",
    "\\[5] - HF Project (http://vergil.chemistry.gatech.edu/resources/programming/hf-project.pdf)"
   ]
  },
  {
   "cell_type": "code",
   "execution_count": 4,
   "metadata": {},
   "outputs": [
    {
     "name": "stdout",
     "output_type": "stream",
     "text": [
      "\n",
      "  Memory set to 257.492 MiB by Python driver.\n",
      "\n",
      "Scratch directory: /tmp/\n",
      "   => Libint2 <=\n",
      "\n",
      "    Primary   basis highest AM E, G, H:  5, 4, 3\n",
      "    Auxiliary basis highest AM E, G, H:  6, 5, 4\n",
      "    Onebody   basis highest AM E, G, H:  6, 5, 4\n",
      "    Solid Harmonics ordering:            gaussian\n",
      "\n",
      "*** tstart() called on sorana-VirtualBox\n",
      "*** at Wed Nov  8 08:43:41 2023\n",
      "\n",
      "   => Loading Basis Set <=\n",
      "\n",
      "    Name: CC-PVDZ\n",
      "    Role: ORBITAL\n",
      "    Keyword: BASIS\n",
      "    atoms 1   entry O          line   198 file /home/sorana/.conda/envs/iccad-learn/share/psi4/basis/cc-pvdz.gbs \n",
      "    atoms 2-3 entry H          line    22 file /home/sorana/.conda/envs/iccad-learn/share/psi4/basis/cc-pvdz.gbs \n",
      "\n",
      "\n",
      "         ---------------------------------------------------------\n",
      "                                   SCF\n",
      "               by Justin Turney, Rob Parrish, Andy Simmonett\n",
      "                          and Daniel G. A. Smith\n",
      "                              RHF Reference\n",
      "                        1 Threads,    257 MiB Core\n",
      "         ---------------------------------------------------------\n",
      "\n",
      "  ==> Geometry <==\n",
      "\n",
      "    Molecular point group: c2v\n",
      "    Full point group: C2v\n",
      "\n",
      "    Geometry (in Angstrom), charge = 0, multiplicity = 1:\n",
      "\n",
      "       Center              X                  Y                   Z               Mass       \n",
      "    ------------   -----------------  -----------------  -----------------  -----------------\n",
      "         O            0.000000000000     0.000000000000    -0.065775570547    15.994914619570\n",
      "         H            0.000000000000    -0.759061990794     0.521953018286     1.007825032230\n",
      "         H            0.000000000000     0.759061990794     0.521953018286     1.007825032230\n",
      "\n",
      "  Running in c2v symmetry.\n",
      "\n",
      "  Rotational constants: A =     27.26297  B =     14.51533  C =      9.47217 [cm^-1]\n",
      "  Rotational constants: A = 817323.21126  B = 435158.60141  C = 283968.37536 [MHz]\n",
      "  Nuclear repulsion =    9.168193296424349\n",
      "\n",
      "  Charge       = 0\n",
      "  Multiplicity = 1\n",
      "  Electrons    = 10\n",
      "  Nalpha       = 5\n",
      "  Nbeta        = 5\n",
      "\n",
      "  ==> Algorithm <==\n",
      "\n",
      "  SCF Algorithm Type is DF.\n",
      "  DIIS enabled.\n",
      "  MOM disabled.\n",
      "  Fractional occupation disabled.\n",
      "  Guess Type is SAD.\n",
      "  Energy threshold   = 1.00e-06\n",
      "  Density threshold  = 1.00e-06\n",
      "  Integral threshold = 1.00e-12\n",
      "\n",
      "  ==> Primary Basis <==\n",
      "\n",
      "  Basis Set: CC-PVDZ\n",
      "    Blend: CC-PVDZ\n",
      "    Number of shells: 12\n",
      "    Number of basis functions: 24\n",
      "    Number of Cartesian functions: 25\n",
      "    Spherical Harmonics?: true\n",
      "    Max angular momentum: 2\n",
      "\n",
      "   => Loading Basis Set <=\n",
      "\n",
      "    Name: (CC-PVDZ AUX)\n",
      "    Role: JKFIT\n",
      "    Keyword: DF_BASIS_SCF\n",
      "    atoms 1   entry O          line   221 file /home/sorana/.conda/envs/iccad-learn/share/psi4/basis/cc-pvdz-jkfit.gbs \n",
      "    atoms 2-3 entry H          line    51 file /home/sorana/.conda/envs/iccad-learn/share/psi4/basis/cc-pvdz-jkfit.gbs \n",
      "\n",
      "  ==> Integral Setup <==\n",
      "\n",
      "  DFHelper Memory: AOs need 0.001 GiB; user supplied 0.189 GiB. \n",
      "  Using in-core AOs.\n",
      "\n",
      "  ==> MemDFJK: Density-Fitted J/K Matrices <==\n",
      "\n",
      "    J tasked:                   Yes\n",
      "    K tasked:                   Yes\n",
      "    wK tasked:                   No\n",
      "    OpenMP threads:               1\n",
      "    Memory [MiB]:               193\n",
      "    Algorithm:                 Core\n",
      "    Schwarz Cutoff:           1E-12\n",
      "    Mask sparsity (%):       0.0000\n",
      "    Fitting Condition:        1E-10\n",
      "\n",
      "   => Auxiliary Basis Set <=\n",
      "\n",
      "  Basis Set: (CC-PVDZ AUX)\n",
      "    Blend: CC-PVDZ-JKFIT\n",
      "    Number of shells: 42\n",
      "    Number of basis functions: 116\n",
      "    Number of Cartesian functions: 131\n",
      "    Spherical Harmonics?: true\n",
      "    Max angular momentum: 3\n",
      "\n",
      "  Minimum eigenvalue in the overlap matrix is 3.2707806872E-02.\n",
      "  Reciprocal condition number of the overlap matrix is 1.0389988226E-02.\n",
      "    Using symmetric orthogonalization.\n",
      "\n",
      "  ==> Pre-Iterations <==\n",
      "\n",
      "  SCF Guess: Superposition of Atomic Densities via on-the-fly atomic UHF (no occupation information).\n",
      "\n",
      "   -------------------------\n",
      "    Irrep   Nso     Nmo    \n",
      "   -------------------------\n",
      "     A1        11      11 \n",
      "     A2         2       2 \n",
      "     B1         4       4 \n",
      "     B2         7       7 \n",
      "   -------------------------\n",
      "    Total      24      24\n",
      "   -------------------------\n",
      "\n",
      "  ==> Iterations <==\n",
      "\n",
      "                           Total Energy        Delta E     RMS |[F,P]|\n",
      "\n",
      "   @DF-RHF iter SAD:   -75.50772041125781   -7.55077e+01   0.00000e+00 \n",
      "   @DF-RHF iter   1:   -75.95376270516573   -4.46042e-01   3.03066e-02 DIIS/ADIIS\n",
      "   @DF-RHF iter   2:   -76.00706363301757   -5.33009e-02   1.73566e-02 DIIS/ADIIS\n",
      "   @DF-RHF iter   3:   -76.02603257829411   -1.89689e-02   2.30937e-03 DIIS/ADIIS\n",
      "   @DF-RHF iter   4:   -76.02661197956421   -5.79401e-04   3.72696e-04 DIIS/ADIIS\n",
      "   @DF-RHF iter   5:   -76.02663177626408   -1.97967e-05   6.75689e-05 DIIS\n",
      "   @DF-RHF iter   6:   -76.02663270891209   -9.32648e-07   1.05815e-05 DIIS\n",
      "   @DF-RHF iter   7:   -76.02663273457789   -2.56658e-08   1.47100e-06 DIIS\n",
      "   @DF-RHF iter   8:   -76.02663273509120   -5.13310e-10   3.44832e-07 DIIS\n",
      "  Energy and wave function converged.\n",
      "\n",
      "\n",
      "  ==> Post-Iterations <==\n",
      "\n",
      "    Orbital Energies [Eh]\n",
      "    ---------------------\n",
      "\n",
      "    Doubly Occupied:                                                      \n",
      "\n",
      "       1A1   -20.550924     2A1    -1.335311     1B2    -0.697803  \n",
      "       3A1    -0.566087     1B1    -0.492948  \n",
      "\n",
      "    Virtual:                                                              \n",
      "\n",
      "       4A1     0.185107     2B2     0.255846     3B2     0.787337  \n",
      "       5A1     0.851826     6A1     1.163856     2B1     1.200425  \n",
      "       4B2     1.253574     7A1     1.445291     1A2     1.476011  \n",
      "       3B1     1.674661     8A1     1.868111     5B2     1.932579  \n",
      "       6B2     2.446530     9A1     2.483817     4B1     3.283958  \n",
      "       2A2     3.336670    10A1     3.507635    11A1     3.863421  \n",
      "       7B2     4.144760  \n",
      "\n",
      "    Final Occupation by Irrep:\n",
      "             A1    A2    B1    B2 \n",
      "    DOCC [     3,    0,    1,    1 ]\n",
      "    NA   [     3,    0,    1,    1 ]\n",
      "    NB   [     3,    0,    1,    1 ]\n",
      "\n",
      "  @DF-RHF Final Energy:   -76.02663273509120\n",
      "\n",
      "   => Energetics <=\n",
      "\n",
      "    Nuclear Repulsion Energy =              9.1681932964243487\n",
      "    One-Electron Energy =                -123.1035077420453945\n",
      "    Two-Electron Energy =                  37.9086817105298337\n",
      "    Total Energy =                        -76.0266327350912121\n",
      "\n",
      "Computation Completed\n",
      "\n",
      "\n",
      "Properties will be evaluated at   0.000000,   0.000000,   0.000000 [a0]\n",
      "\n",
      "Properties computed using the SCF density matrix\n",
      "\n",
      "\n",
      " Multipole Moments:\n",
      "\n",
      " ------------------------------------------------------------------------------------\n",
      "     Multipole            Electronic (a.u.)      Nuclear  (a.u.)        Total (a.u.)\n",
      " ------------------------------------------------------------------------------------\n",
      "\n",
      " L = 1.  Multiply by 2.5417464519 to convert [e a0] to [Debye]\n",
      " Dipole X            :          0.0000000            0.0000000            0.0000000\n",
      " Dipole Y            :          0.0000000            0.0000000            0.0000000\n",
      " Dipole Z            :         -0.1680325            0.9783140            0.8102815\n",
      " Magnitude           :                                                    0.8102815\n",
      "\n",
      " ------------------------------------------------------------------------------------\n",
      "\n",
      "*** tstop() called on sorana-VirtualBox at Wed Nov  8 08:43:42 2023\n",
      "Module time:\n",
      "\tuser time   =       0.33 seconds =       0.01 minutes\n",
      "\tsystem time =       0.06 seconds =       0.00 minutes\n",
      "\ttotal time  =          1 seconds =       0.02 minutes\n",
      "Total time:\n",
      "\tuser time   =       0.33 seconds =       0.01 minutes\n",
      "\tsystem time =       0.06 seconds =       0.00 minutes\n",
      "\ttotal time  =          1 seconds =       0.02 minutes\n"
     ]
    },
    {
     "data": {
      "text/plain": [
       "-76.0266327350912"
      ]
     },
     "execution_count": 4,
     "metadata": {},
     "output_type": "execute_result"
    }
   ],
   "source": [
    "psi4.set_memory('270 MB')\n",
    "\n",
    "h2o = psi4.geometry(\"\"\"\n",
    "O\n",
    "H 1 0.96\n",
    "H 1 0.96 2 104.5\n",
    "\"\"\")\n",
    "\n",
    "psi4.energy('scf/cc-pvdz')"
   ]
  },
  {
   "cell_type": "code",
   "execution_count": null,
   "metadata": {},
   "outputs": [],
   "source": []
  }
 ],
 "metadata": {
  "kernelspec": {
   "display_name": "qccontest",
   "language": "python",
   "name": "python3"
  },
  "language_info": {
   "codemirror_mode": {
    "name": "ipython",
    "version": 3
   },
   "file_extension": ".py",
   "mimetype": "text/x-python",
   "name": "python",
   "nbconvert_exporter": "python",
   "pygments_lexer": "ipython3",
   "version": "3.11.5"
  }
 },
 "nbformat": 4,
 "nbformat_minor": 2
}
